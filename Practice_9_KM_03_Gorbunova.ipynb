{
  "nbformat": 4,
  "nbformat_minor": 0,
  "metadata": {
    "colab": {
      "name": "Practice_7_KM-01_.ipynb",
      "provenance": [],
      "collapsed_sections": []
    },
    "kernelspec": {
      "name": "python3",
      "display_name": "Python 3.8.6 64-bit",
      "metadata": {
        "interpreter": {
          "hash": "9ce43836c8d3287a06e199a1efd6974587c1d8c7cdf961feda0708cd09e2869c"
        }
      }
    }
  },
  "cells": [
    {
      "cell_type": "markdown",
      "metadata": {
        "id": "FMqboNwO4rVs"
      },
      "source": [
        "# **Курс \"Програмування на мові Python\"**\n",
        "\n",
        "##### Викладачі:\n",
        "##### Борисенко Павло Борисович\n",
        "##### Щьоголєв Максим Олегович\n"
      ]
    },
    {
      "cell_type": "markdown",
      "metadata": {
        "id": "A2T6MigL5Z06"
      },
      "source": [
        "## **Практичне зайняття №9**\n",
        "\n",
        "### Тема: \"Лямбда-функції. Функції вищих порядків\""
      ]
    },
    {
      "cell_type": "markdown",
      "metadata": {
        "id": "cfCdgK2zXm7e"
      },
      "source": [
        "### **Завдання 1 (1 бал)**\n",
        "\n",
        "Продавець роздрібного товару влаштовує розпродаж. Для всіх товарів знижка однакова - 60%. Щоб вивісити нові цінники, продавець хоче скласти таблицю, в якій для кожного товару буде підрахована його нова вартість та сума знижки.\n",
        "\n",
        "Написати програму, яка буде генерувати таку таблицю. Вартість одиниць товарів до розпродажу подано у списку products_list. \n",
        "\n",
        "1. Для підрахунку невідомих значень повинні використовуватись вбудовані функції вищих порядків.\n",
        "\n",
        "2. Вартість з урахуванням знижки та суми знижок для кожного товару повинні зберігатись у двох окремих списках. Порядок товарів у нових списках повинен бути такий самий, як і в списку products_list.\n",
        "\n",
        "3. Кожне підраховане числове значення має бути округлене до сотих.\n",
        "\n",
        "4. Дані повинні виводитись у вигляді:\n",
        "\n",
        "**Discount table:**\n",
        "\n",
        "**29.25 11.7 17.55**\n",
        "\n",
        "**48.99 19.6 29.39**\n",
        "\n",
        "**...**\n",
        "\n",
        "\n",
        "products_list = [[29.25, 48.99, 99.98, 124.65, 214.30, 543.90, 799.85]]\n"
      ]
    },
    {
      "cell_type": "code",
      "metadata": {
        "id": "ifNX2M7LXm7f"
      },
      "source": [
        "products_list = [29.25, 48.99, 99.98, 124.65, 214.30, 543.90, 799.85]\n",
        "a=list(map(lambda x: round(x*0.6,2), products_list))\n",
        "b=list(map(lambda x: round(x-(x*0.6),2), products_list))\n",
        "print('Discount table:')\n",
        "for i in range (len(products_list)):\n",
        "    print(products_list[i],b[i],a[i])"
      ],
      "execution_count": 9,
      "outputs": [
        {
          "output_type": "stream",
          "name": "stdout",
          "text": [
            "Discount table:\n29.25 11.7 17.55\n48.99 19.6 29.39\n99.98 39.99 59.99\n124.65 49.86 74.79\n214.3 85.72 128.58\n543.9 217.56 326.34\n799.85 319.94 479.91\n"
          ]
        }
      ]
    },
    {
      "source": [
        "### **Завдання 2 (2 бали)**\n",
        "\n",
        "Зазвичай рік має 365 днів. Однак у високосні роки додається ще один день - 29 лютого. Правила визначення високосного року такі:\n",
        "\n",
        "- Будь-який рік, що ділиться на 400 - високосний.\n",
        "\n",
        "- З тих років, що залишились, будь-який рік, що ділиться на 100 - **не** високосний.\n",
        "\n",
        "- З тих років, що залишились, будь-який рік, що ділиться на 4 - високосний.\n",
        "\n",
        "- Усі інші роки, що залишились - **не** високосні.\n",
        "\n",
        "1) Створіть функцію, в якій за допомогою вбудованих функцій вищих порядків будуть визначатися високосні роки серед перелічених років у списку years. Створена функція має повертати список високосних років.\n",
        "\n",
        "2) Створіть функцію вищих порядків, яка прийматиме на вхід попередню функцію та визначатиме кількість днів у місяці. Також функція повинна приймати на вхід ще 2 параметри: ціле число від 1 до 12 (місяць) та рік, як ціле чотирицифрове число. Ці значення корисувач має вводити з клавіатури. Перевірку введених даних слід виконувати поза межами функцій."
      ],
      "cell_type": "markdown",
      "metadata": {}
    },
    {
      "cell_type": "code",
      "execution_count": 10,
      "metadata": {},
      "outputs": [
        {
          "output_type": "stream",
          "name": "stdout",
          "text": [
            "Number of days: 29\n"
          ]
        }
      ],
      "source": [
        "import numpy as np\n",
        "years = list(np.arange(1900, 2020+1, 1))\n",
        "def v_years(years):\n",
        "    a=list(filter(lambda x: x%400 == 0, years))\n",
        "    for i in a:\n",
        "        years.remove(a)\n",
        "    c=list(filter(lambda x: x%100 == 0, years))\n",
        "    for i in c:\n",
        "        years.remove(i)\n",
        "    d=list(filter(lambda x: x%4 == 0, years))\n",
        "    return sorted(a+d)\n",
        "def days(v_years,a,b):\n",
        "    m31=[1,3,5,7,8,10,12]\n",
        "    m30=[4,6,9,11]\n",
        "    if a in m31:\n",
        "        return 31\n",
        "    elif a in m30:\n",
        "        return 30\n",
        "    elif a==2:    \n",
        "        if b in v_years(years):\n",
        "            return 29\n",
        "        else:\n",
        "            return 28\n",
        "while True:\n",
        "    try:\n",
        "        a=int(input(\"Enter the month's number: \"))\n",
        "        n=[1,2,3,4,5,6,7,8,9,10,11,12]\n",
        "        if a in n:\n",
        "            break\n",
        "        else:\n",
        "            print(\"Error (enter a number from 1 to 12)\")\n",
        "            continue\n",
        "    except ValueError:\n",
        "        print(\"Error (enter a number from 1 to 12)\")\n",
        "        continue\n",
        "while True:\n",
        "    try:\n",
        "        b=int(input(\"Enter a year: \"))\n",
        "        b=str(b)\n",
        "        if len(b)==4 and int(b)>0 and b[0]!=0 :\n",
        "            b=int(b)\n",
        "            break\n",
        "        else:\n",
        "            print(\"Error. Enter a year correct\")\n",
        "            continue\n",
        "    except ValueError:\n",
        "        print(\"Error. Enter a year correct\")\n",
        "        continue\n",
        "print('Number of days:',days(v_years,a,b))"
      ]
    },
    {
      "cell_type": "code",
      "execution_count": null,
      "metadata": {},
      "outputs": [],
      "source": []
    }
  ]
}