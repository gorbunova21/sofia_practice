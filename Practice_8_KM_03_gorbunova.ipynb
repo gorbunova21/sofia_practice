{
  "nbformat": 4,
  "nbformat_minor": 0,
  "metadata": {
    "colab": {
      "name": "Practice_7_KM-01_.ipynb",
      "provenance": [],
      "collapsed_sections": []
    },
    "kernelspec": {
      "name": "python3",
      "display_name": "Python 3.8.6 64-bit",
      "metadata": {
        "interpreter": {
          "hash": "9ce43836c8d3287a06e199a1efd6974587c1d8c7cdf961feda0708cd09e2869c"
        }
      }
    }
  },
  "cells": [
    {
      "cell_type": "markdown",
      "metadata": {
        "id": "FMqboNwO4rVs"
      },
      "source": [
        "# **Курс \"Програмування на мові Python\"**\n",
        "\n",
        "##### Викладачі:\n",
        "##### Борисенко Павло Борисович\n",
        "##### Щьоголєв Максим Олегович\n"
      ]
    },
    {
      "cell_type": "markdown",
      "metadata": {
        "id": "A2T6MigL5Z06"
      },
      "source": [
        "## **Практичне зайняття №8**\n",
        "\n",
        "### Тема: \"Робота з функціями. Локальні та глобальні змінні\""
      ]
    },
    {
      "cell_type": "markdown",
      "metadata": {
        "id": "cfCdgK2zXm7e"
      },
      "source": [
        "### **Завдання 1 (3 бали)**\n",
        "\n",
        "**Підрахувати визначник матриці, використовуючи перестановки та символ Леві-Чивіти.**\n",
        "\n",
        "Функція random_matrix() призначена для створення квадратної матриці випадкових чисел. Її змінювати непотрібно.\n",
        "\n",
        "Приклад використання методу permutations() для створення списку перестановок також подається у комірці з кодом.\n",
        "\n",
        "1) Створити 3 функції: функцію створення списку перестановок, функцію підрахунку добутків та функцію підрахунку загальної суми.\n",
        "\n",
        "2) Кожна функція має супроводжуватись рядком документації, що буде коротко описувати її призначення.\n",
        "\n",
        "3) Розмірність квадратної матриці має вводитись користувачем з клавіатури. Підрахунки виконувати лише в тому разі, якщо користувач введе ціле додатне число.\n",
        "\n",
        "4) Загальний результат повинен підраховуватись за допомогою композиції функцій.\n",
        "\n",
        "За бажання можна перевірити правильність роботи програми за допомогою функції np.linalg.det(a)."
      ]
    },
    {
      "cell_type": "code",
      "metadata": {
        "id": "ifNX2M7LXm7f"
      },
      "source": [
        "import numpy as np\n",
        "import itertools\n",
        "\n",
        "def random_matrix(dim):\n",
        "    \"\"\"\n",
        "    The function generates dim x dim array of integers\n",
        "    between 0 and 10.\n",
        "    \"\"\"\n",
        "    matrix = np.random.randint(10, size = (dim, dim))\n",
        "    return matrix\n",
        "\n",
        "while type:\n",
        "    try:\n",
        "        dim=int(input('Введіть розмірність квадратної матриці (1 число): '))\n",
        "        if dim<0:\n",
        "            print('Неправильний формат. Введіть 1 додатнє число!')\n",
        "            continue\n",
        "        else:\n",
        "            break\n",
        "        break\n",
        "    except ValueError:\n",
        "        print(\"Неправильний формат. Введіть 1 ціле число!\")\n",
        "m=random_matrix(dim)\n",
        "print(m)\n",
        "def permutat(dim):\n",
        "    \"\"\"The function creat list of permutations.\"\"\"\n",
        "    p=[]\n",
        "    for i in range(1,dim+1):\n",
        "        p.append(i)\n",
        "    t = list(itertools.permutations(p, dim))\n",
        "    return t\n",
        "t=permutat(dim)\n",
        "def multip(t):\n",
        "    \"\"\"The function creat list of multiplication's results .\"\"\"\n",
        "    k=0\n",
        "    new_l=[]\n",
        "    for i in t:\n",
        "        for j in range(len(i)):\n",
        "            for n in range(j,len(i)):\n",
        "                if i[j]>i[n]:\n",
        "                    k+=1\n",
        "        a=(-1)**k\n",
        "        for j in range(len(i)):\n",
        "            g2=i[j]\n",
        "            a*=m[j][g2-1]\n",
        "        new_l.append(a)\n",
        "        k=0\n",
        "    return new_l\n",
        "\n",
        "def sum(new_l):\n",
        "    \"\"\"The function add multiplication's results to each other (add elements from list) and return the result (determinant)  .\"\"\"\n",
        "    s=0\n",
        "    for i in new_l:\n",
        "        s+=i\n",
        "    return s\n",
        "print(sum(multip(t)))\n",
        "\n",
        "\n",
        "\n"
      ],
      "execution_count": 1,
      "outputs": [
        {
          "output_type": "stream",
          "name": "stdout",
          "text": [
            "[[2 1 9]\n [9 6 9]\n [1 3 9]]\n171\n"
          ]
        }
      ]
    },
    {
      "cell_type": "code",
      "execution_count": null,
      "metadata": {},
      "outputs": [],
      "source": []
    }
  ]
}